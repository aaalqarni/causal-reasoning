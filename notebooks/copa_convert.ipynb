{
 "cells": [
  {
   "cell_type": "markdown",
   "metadata": {},
   "source": [
    "## Reading and converting COPA data collection\n",
    "\n",
    "List of data:\n",
    "\n",
    "* Original COPA (`dev + test`): https://people.ict.usc.edu/~gordon/copa.html\n",
    "* Balanced-COPA (`dev`): https://github.com/Balanced-COPA/Balanced-COPA\n",
    "* BCOPA-CE (`test`): https://github.com/badbadcode/weakCOPA"
   ]
  },
  {
   "cell_type": "code",
   "execution_count": 1,
   "metadata": {},
   "outputs": [],
   "source": [
    "import os\n",
    "import sys\n",
    "\n",
    "root_path = os.path.abspath(os.path.join(os.path.dirname(\"__file__\"), '..'))\n",
    "sys.path.insert(0, root_path)\n",
    "\n",
    "import json\n",
    "import random\n",
    "from utils import convert_copa\n",
    "\n",
    "# in case we needed to randomly shuffle a set (x)\n",
    "# random_seed = 42\n",
    "# random.Random(random_seed).shuffle(x)"
   ]
  },
  {
   "cell_type": "code",
   "execution_count": 2,
   "metadata": {},
   "outputs": [],
   "source": [
    "# the 'm' extension is for the multi-choice formatted data\n",
    "\n",
    "dir_path = '../data/copa/'\n",
    "\n",
    "copa_dev, copa_dev_ordered, copa_dev_m = convert_copa(dir_path + 'original/copa-dev.xml')\n",
    "bcopa_dev, bcopa_dev_ordered, bcopa_dev_m = convert_copa(dir_path + 'original/balanced-copa-dev-all.xml')\n",
    "copa_test, copa_test_ordered, copa_test_m = convert_copa(dir_path + 'original/copa-test.xml')\n",
    "bcopa_ce_test, bcopa_ce_test_ordered, bcopa_ce_test_m = convert_copa(dir_path + 'original/BCOPA-CE.xml')\n",
    "\n",
    "# ------------------------------\n",
    "# creating easy and hard subsets from COPA-test\n",
    "# these subsets are defined by: \n",
    "# Kavumba, Pride, et al. \"When Choosing Plausible Alternatives, Clever Hans can be Clever.\" \n",
    "# Proceedings of the First Workshop on Commonsense Inference in Natural Language Processing. 2019.\n",
    "\n",
    "easy_hard_path = 'original/easy_hard_subsets.json'\n",
    "with open(dir_path + easy_hard_path) as f:\n",
    "    easy_hard_data = json.load(f)\n",
    "\n",
    "easy_test_m = []\n",
    "hard_test_m = []\n",
    "\n",
    "for item in copa_test_m:\n",
    "    item_id = int(item['id'])\n",
    "    if item_id in easy_hard_data['easy']:\n",
    "        easy_test_m.append(item)\n",
    "    elif item_id in easy_hard_data['hard']:\n",
    "        hard_test_m.append(item)\n",
    "# ------------------------------\n",
    "\n",
    "all_data = {\"copa_dev\": copa_dev, \"copa_dev_ordered\": copa_dev_ordered, \"copa_dev_m\": copa_dev_m,\n",
    "            \"bcopa_dev\": bcopa_dev, \"bcopa_dev_ordered\": bcopa_dev_ordered, \"bcopa_dev_m\": bcopa_dev_m,\n",
    "            \"copa_test\": copa_test, \"copa_test_ordered\": copa_test_ordered, \"copa_test_m\": copa_test_m, \n",
    "            \"bcopa_ce_test\": bcopa_ce_test, \"bcopa_ce_test_ordered\": bcopa_ce_test_ordered, \"bcopa_ce_test_m\": bcopa_ce_test_m,\n",
    "            \"easy_test_m\": easy_test_m, \"hard_test_m\": hard_test_m}\n",
    "\n",
    "for data_name, data in all_data.items():\n",
    "    data = list(map(str, data))\n",
    "    with open(dir_path + \"{}.txt\".format(data_name), \"w\") as output:\n",
    "        output.writelines(f'{s}\\n' for s in data)"
   ]
  },
  {
   "cell_type": "code",
   "execution_count": 3,
   "metadata": {},
   "outputs": [
    {
     "data": {
      "text/plain": [
       "(190, 310)"
      ]
     },
     "execution_count": 3,
     "metadata": {},
     "output_type": "execute_result"
    }
   ],
   "source": [
    "len(easy_test_m), len(hard_test_m)"
   ]
  },
  {
   "cell_type": "code",
   "execution_count": 4,
   "metadata": {},
   "outputs": [
    {
     "data": {
      "text/plain": [
       "({'id': '1-1',\n",
       "  'sent1': 'My body cast a shadow over the grass.',\n",
       "  'sent2': 'The sun was rising.',\n",
       "  'label': 1},\n",
       " {'id': '1-2',\n",
       "  'sent1': 'My body cast a shadow over the grass.',\n",
       "  'sent2': 'The grass was cut.',\n",
       "  'label': 0})"
      ]
     },
     "execution_count": 4,
     "metadata": {},
     "output_type": "execute_result"
    }
   ],
   "source": [
    "copa_dev[0], copa_dev[1]"
   ]
  },
  {
   "cell_type": "code",
   "execution_count": 5,
   "metadata": {},
   "outputs": [
    {
     "data": {
      "text/plain": [
       "({'id': '1-1',\n",
       "  'sent1': 'The sun was rising.',\n",
       "  'sent2': 'My body cast a shadow over the grass.',\n",
       "  'label': 1},\n",
       " {'id': '1-2',\n",
       "  'sent1': 'The grass was cut.',\n",
       "  'sent2': 'My body cast a shadow over the grass.',\n",
       "  'label': 0})"
      ]
     },
     "execution_count": 5,
     "metadata": {},
     "output_type": "execute_result"
    }
   ],
   "source": [
    "copa_dev_ordered[0], copa_dev_ordered[1]"
   ]
  },
  {
   "cell_type": "code",
   "execution_count": 6,
   "metadata": {},
   "outputs": [
    {
     "data": {
      "text/plain": [
       "({'id': '1501',\n",
       "  'premise': 'The item was packaged in bubble wrap.',\n",
       "  'question': 'What is the cause?',\n",
       "  'choice0': 'It was fragile.',\n",
       "  'choice1': 'It arrived at its destination intact.',\n",
       "  'label': 0},\n",
       " dict)"
      ]
     },
     "execution_count": 6,
     "metadata": {},
     "output_type": "execute_result"
    }
   ],
   "source": [
    "bcopa_ce_test_m[0], type(bcopa_ce_test_m[11])"
   ]
  },
  {
   "cell_type": "code",
   "execution_count": 7,
   "metadata": {},
   "outputs": [
    {
     "data": {
      "text/plain": [
       "({'id': '1',\n",
       "  'premise': 'My body cast a shadow over the grass.',\n",
       "  'question': 'What is the cause?',\n",
       "  'choice0': 'The sun was rising.',\n",
       "  'choice1': 'The grass was cut.',\n",
       "  'label': 0},\n",
       " dict)"
      ]
     },
     "execution_count": 7,
     "metadata": {},
     "output_type": "execute_result"
    }
   ],
   "source": [
    "bcopa_dev_m[0], type(bcopa_dev_m[11])"
   ]
  },
  {
   "cell_type": "markdown",
   "metadata": {},
   "source": [
    "### Creating SWAG-formatted CSV for COPA\n",
    "List of tasks:\n",
    "* Multiple choice\n",
    "* Sequence classification "
   ]
  },
  {
   "cell_type": "code",
   "execution_count": 8,
   "metadata": {},
   "outputs": [],
   "source": [
    "import csv\n",
    "import ast\n",
    "\n",
    "col_names_seq = ['sent1', 'sent2', 'label']\n",
    "\n",
    "col_names_multi = ['startphrase', 'sent1', 'sent2', 'ending0', 'ending1', 'label']\n",
    "\n",
    "def create_csv_seq(examples, file_path):\n",
    "    with open('{}.csv'.format(file_path), 'w', newline='') as file:\n",
    "        writer = csv.writer(file)\n",
    "        writer.writerow(col_names_seq)\n",
    "        for example in examples:\n",
    "            sent1 = example['sent1']\n",
    "            sent2 = example['sent2']\n",
    "            label = int(example['label'])\n",
    "            writer.writerow([sent1, sent2, label])\n",
    "\n",
    "def create_csv_multi(examples, file_path):\n",
    "    with open('{}.csv'.format(file_path), 'w', newline='') as file:\n",
    "        writer = csv.writer(file)\n",
    "        writer.writerow(col_names_multi)\n",
    "        for example in examples:\n",
    "            example = ast.literal_eval(example)\n",
    "            sent1 = example['premise']\n",
    "            ending0 = example['choice0']\n",
    "            ending1 = example['choice1']\n",
    "            label = int(example['label'])\n",
    "            if 'cause' in example['question']:\n",
    "                sent2 = 'It is because'\n",
    "                startphrase = sent1 + ' ' + sent2\n",
    "            else:\n",
    "                sent2 = 'As a result,'\n",
    "                startphrase = sent1 + ' ' + sent2\n",
    "\n",
    "            writer.writerow([startphrase, sent1, sent2, ending0, ending1, label])\n",
    "\n",
    "for data_name, data in all_data.items():\n",
    "    if data_name.endswith('_m'):\n",
    "        data = list(map(str, data))\n",
    "        create_csv_multi(data, dir_path + '{}'.format(data_name))\n",
    "    else:\n",
    "        create_csv_seq(data, dir_path + '{}'.format(data_name))"
   ]
  },
  {
   "cell_type": "code",
   "execution_count": null,
   "metadata": {},
   "outputs": [],
   "source": []
  }
 ],
 "metadata": {
  "kernelspec": {
   "display_name": "ccr",
   "language": "python",
   "name": "ccr"
  },
  "language_info": {
   "codemirror_mode": {
    "name": "ipython",
    "version": 3
   },
   "file_extension": ".py",
   "mimetype": "text/x-python",
   "name": "python",
   "nbconvert_exporter": "python",
   "pygments_lexer": "ipython3",
   "version": "3.6.13"
  }
 },
 "nbformat": 4,
 "nbformat_minor": 4
}
