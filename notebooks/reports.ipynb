{
 "cells": [
  {
   "cell_type": "code",
   "execution_count": 1,
   "metadata": {},
   "outputs": [],
   "source": [
    "import os\n",
    "import csv\n",
    "import sys\n",
    "\n",
    "root_path = os.path.abspath(os.path.join(os.path.dirname(\"__file__\"), '..'))\n",
    "sys.path.insert(0, root_path)\n",
    "\n",
    "import matplotlib.pyplot as plt\n",
    "from matplotlib.lines import Line2D"
   ]
  },
  {
   "cell_type": "code",
   "execution_count": 2,
   "metadata": {},
   "outputs": [],
   "source": [
    "rel_cats = {}\n",
    "rel_types = {}\n",
    "\n",
    "with open('../data/pretraining.csv') as csv_file:\n",
    "    csv_reader = csv.reader(csv_file, delimiter=',')\n",
    "    next(csv_reader, None)\n",
    "    for row in csv_reader:\n",
    "        rel_cat = row[1]\n",
    "        rel_type = row[2]\n",
    "        \n",
    "        if rel_cat in ['event', 'physical', 'social']:\n",
    "            if rel_cat in rel_cats:\n",
    "                rel_cats[rel_cat] += 1\n",
    "            else:\n",
    "                rel_cats[rel_cat] = 1\n",
    "            \n",
    "            if rel_type in rel_types:\n",
    "                rel_types[rel_type] += 1\n",
    "            else:\n",
    "                rel_types[rel_type] = 1\n",
    "\n",
    "rel_cats = {k: v for k, v in sorted(rel_cats.items(), key=lambda item: item[1])}\n",
    "rel_types = {k: v for k, v in sorted(rel_types.items(), key=lambda item: item[1])}"
   ]
  },
  {
   "cell_type": "code",
   "execution_count": 4,
   "metadata": {},
   "outputs": [
    {
     "data": {
      "text/plain": [
       "{'event': 145736, 'physical': 177706, 'social': 609197}"
      ]
     },
     "execution_count": 4,
     "metadata": {},
     "output_type": "execute_result"
    }
   ],
   "source": [
    "rel_cats"
   ]
  },
  {
   "cell_type": "code",
   "execution_count": 5,
   "metadata": {},
   "outputs": [
    {
     "data": {
      "text/plain": [
       "{'xReason': 292,\n",
       " 'Causes': 329,\n",
       " 'Desires': 2712,\n",
       " 'NotDesires': 2804,\n",
       " 'MadeUpOf': 2908,\n",
       " 'HasProperty': 4963,\n",
       " 'CapableOf': 7212,\n",
       " 'HasSubEvent': 10892,\n",
       " 'isAfter': 16397,\n",
       " 'isBefore': 17026,\n",
       " 'AtLocation': 17407,\n",
       " 'isFilledBy': 24055,\n",
       " 'oReact': 27215,\n",
       " 'oEffect': 30910,\n",
       " 'oWant': 46574,\n",
       " 'xIntent': 49366,\n",
       " 'xReact': 61913,\n",
       " 'HinderedBy': 76745,\n",
       " 'xEffect': 81981,\n",
       " 'xNeed': 90543,\n",
       " 'xWant': 108368,\n",
       " 'xAttr': 112327,\n",
       " 'ObjectUse': 139700}"
      ]
     },
     "execution_count": 5,
     "metadata": {},
     "output_type": "execute_result"
    }
   ],
   "source": [
    "rel_types"
   ]
  },
  {
   "cell_type": "code",
   "execution_count": 3,
   "metadata": {},
   "outputs": [
    {
     "data": {
      "image/png": "[encoded data removed]",
      "text/plain": [
       "<Figure size 432x288 with 1 Axes>"
      ]
     },
     "metadata": {
      "needs_background": "light"
     },
     "output_type": "display_data"
    }
   ],
   "source": [
    "names = list(rel_types.keys())\n",
    "values = list(rel_types.values())\n",
    "plt.bar(range(len(rel_types)), values, tick_label=names)\n",
    "plt.xlabel('Relation type')\n",
    "plt.ylabel('Number of triples')\n",
    "plt.gcf().subplots_adjust(bottom=0.35, left=0.2)\n",
    "plt.xticks(rotation=90)\n",
    "plt.savefig('relations.pdf', format=\"pdf\", pad_inches=2)\n",
    "plt.show()"
   ]
  },
  {
   "cell_type": "code",
   "execution_count": null,
   "metadata": {},
   "outputs": [],
   "source": []
  },
  {
   "cell_type": "code",
   "execution_count": null,
   "metadata": {},
   "outputs": [],
   "source": []
  },
  {
   "cell_type": "code",
   "execution_count": null,
   "metadata": {},
   "outputs": [],
   "source": []
  }
 ],
 "metadata": {
  "kernelspec": {
   "display_name": "ccr",
   "language": "python",
   "name": "ccr"
  },
  "language_info": {
   "codemirror_mode": {
    "name": "ipython",
    "version": 3
   },
   "file_extension": ".py",
   "mimetype": "text/x-python",
   "name": "python",
   "nbconvert_exporter": "python",
   "pygments_lexer": "ipython3",
   "version": "3.6.13"
  }
 },
 "nbformat": 4,
 "nbformat_minor": 4
}
