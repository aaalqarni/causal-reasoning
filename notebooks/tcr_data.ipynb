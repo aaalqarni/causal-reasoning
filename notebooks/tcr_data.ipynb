{
 "cells": [
  {
   "cell_type": "code",
   "execution_count": 1,
   "metadata": {},
   "outputs": [],
   "source": [
    "import os\n",
    "import ast\n",
    "import sys\n",
    "import pandas as pd\n",
    "\n",
    "root_path = os.path.abspath(os.path.join(os.path.dirname(\"__file__\"), '..'))\n",
    "sys.path.insert(0, root_path)\n",
    "\n",
    "from convert_to_tacred import crest2tacred\n",
    "from sklearn.model_selection import train_test_split"
   ]
  },
  {
   "cell_type": "code",
   "execution_count": 2,
   "metadata": {},
   "outputs": [],
   "source": [
    "df = pd.read_excel('../data/tcr.xlsx', engine='openpyxl')\n",
    "\n",
    "df.loc[df['direction'] == 0, 'label'] = 0\n",
    "df.loc[df['direction'] == 1, 'label'] = 1\n",
    "\n",
    "train = df.loc[df['split']==1]\n",
    "# if we needed a separate dev set\n",
    "# train, dev = train_test_split(train, test_size=0.2)\n",
    "test = df.loc[df['split']==2]\n",
    "\n",
    "train, train_df, train_excluded_records, train_excluded_rows = crest2tacred(train, '../data/tcr/train', save_json=True)\n",
    "# if we needed a separate dev set\n",
    "# dev, dev_df, dev_excluded_records, dev_excluded_rows = crest2tacred(dev, 'dev', save_json=True)\n",
    "test, test_df, test_excluded_records, test_excluded_rows = crest2tacred(test, '../data/tcr/test', save_json=True)"
   ]
  },
  {
   "cell_type": "code",
   "execution_count": 3,
   "metadata": {},
   "outputs": [
    {
     "data": {
      "text/plain": [
       "(128, 44)"
      ]
     },
     "execution_count": 3,
     "metadata": {},
     "output_type": "execute_result"
    }
   ],
   "source": [
    "# len(train), len(dev), len(test)\n",
    "len(train), len(test)"
   ]
  },
  {
   "cell_type": "code",
   "execution_count": 4,
   "metadata": {},
   "outputs": [
    {
     "name": "stdout",
     "output_type": "stream",
     "text": [
      "0.6363636363636364\n",
      "0.36363636363636365\n"
     ]
    }
   ],
   "source": [
    "p = 0\n",
    "n = 0\n",
    "\n",
    "for item in test:\n",
    "    if item['relation'] == 0:\n",
    "        n +=1\n",
    "    elif item['relation'] == 1:\n",
    "        p += 1\n",
    "\n",
    "print(n/(p+n))\n",
    "print(p/(p+n))"
   ]
  }
 ],
 "metadata": {
  "kernelspec": {
   "display_name": "ccr",
   "language": "python",
   "name": "ccr"
  },
  "language_info": {
   "codemirror_mode": {
    "name": "ipython",
    "version": 3
   },
   "file_extension": ".py",
   "mimetype": "text/x-python",
   "name": "python",
   "nbconvert_exporter": "python",
   "pygments_lexer": "ipython3",
   "version": "3.8.13"
  }
 },
 "nbformat": 4,
 "nbformat_minor": 4
}
